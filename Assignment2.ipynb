{
 "cells": [
  {
   "cell_type": "code",
   "execution_count": 1,
   "id": "6d0e8a1b-6a52-40d2-a76b-cbc953889173",
   "metadata": {},
   "outputs": [
    {
     "name": "stdout",
     "output_type": "stream",
     "text": [
      "Hello, Alice!\n",
      "Good morning, Bob!\n"
     ]
    }
   ],
   "source": [
    "# 1 Basic Function Implementation:\n",
    "def greet(name, greeting=\"Hello\"):\n",
    "    return f\"{greeting}, {name}!\"\n",
    "\n",
    "\n",
    "print(greet(\"Alice\"))             \n",
    "print(greet(\"Bob\", \"Good morning\")) \n"
   ]
  },
  {
   "cell_type": "code",
   "execution_count": 9,
   "id": "e1f9bb72-a58a-4038-9dd3-8f2fa465ed17",
   "metadata": {},
   "outputs": [
    {
     "name": "stdout",
     "output_type": "stream",
     "text": [
      "Name: Emma, Age: 22, City: Los Angeles\n"
     ]
    }
   ],
   "source": [
    "# 2 Named Arguments:\n",
    "def create_profile(name, city, age=22):\n",
    "    return f\"Name: {name}, Age: {age}, City: {city}\"\n",
    "\n",
    "profile = create_profile(name=\"Emma\", city=\"Los Angeles\")\n",
    "print(profile)"
   ]
  },
  {
   "cell_type": "code",
   "execution_count": 16,
   "id": "48929255-3f9d-4faf-98fc-77dfeef552f4",
   "metadata": {},
   "outputs": [
    {
     "name": "stdout",
     "output_type": "stream",
     "text": [
      "(6, {'x': 4, 'y': 5})\n"
     ]
    }
   ],
   "source": [
    "# 3 **Using *args and kwargs:\n",
    "def sum_numbers(*args, **kwargs):\n",
    "    args_sum = sum(arg for arg in args if isinstance(arg, (int, float)))  \n",
    "    return args_sum, kwargs\n",
    "# Example usage\n",
    "result = sum_numbers(1, 2, 3, x=4, y=5)\n",
    "print(result)\n"
   ]
  },
  {
   "cell_type": "code",
   "execution_count": 18,
   "id": "74f3d591-e2f8-4c3a-a828-8980d4f2e3ef",
   "metadata": {},
   "outputs": [
    {
     "name": "stdout",
     "output_type": "stream",
     "text": [
      "[1, 4, 9, 16]\n"
     ]
    }
   ],
   "source": [
    "# 4 Lambdas and Map:\n",
    "def square_elements(numbers):\n",
    "    return list(map(lambda x: x ** 2, numbers))\n",
    "\n",
    "# Example usage\n",
    "numbers = [1, 2, 3, 4]\n",
    "squared_numbers = square_elements(numbers)\n",
    "print(squared_numbers)\n"
   ]
  },
  {
   "cell_type": "code",
   "execution_count": 24,
   "id": "06203d60-be28-4f28-b3e6-79a113374c0f",
   "metadata": {},
   "outputs": [
    {
     "name": "stdout",
     "output_type": "stream",
     "text": [
      "[2, 4]\n"
     ]
    }
   ],
   "source": [
    "# 5 Filter and Lambdas:\n",
    "def filter_odd_numbers(numbers):\n",
    "    return list(filter(lambda x: x % 2 == 0,numbers))\n",
    "\n",
    "# Example usage\n",
    "filter_odd_numbers([1, 2, 3, 4, 5])  \n",
    "\n",
    "print(even_numbers)\n"
   ]
  },
  {
   "cell_type": "code",
   "execution_count": 20,
   "id": "a5d07deb-7c7b-4f23-843c-510e3bdebdea",
   "metadata": {},
   "outputs": [
    {
     "name": "stdout",
     "output_type": "stream",
     "text": [
      "[0, 1, 4, 9, 16]\n"
     ]
    }
   ],
   "source": [
    "# 6 Basic List Comprehension:\n",
    "def square_numbers(numbers):\n",
    "    return [x ** 2 for x in range(5)]\n",
    "\n",
    "# Example usage\n",
    "# numbers = [1, 2, 3, 4, 5]\n",
    "squared_numbers = square_numbers(numbers)\n",
    "print(squared_numbers)\n"
   ]
  },
  {
   "cell_type": "code",
   "execution_count": 26,
   "id": "512f4d3b-ad20-4eb8-85d8-b074547c6f09",
   "metadata": {},
   "outputs": [
    {
     "name": "stdout",
     "output_type": "stream",
     "text": [
      "[2, 4, 6, 8, 10, 12, 14, 16, 18, 20]\n"
     ]
    }
   ],
   "source": [
    "# 7 List Comprehension with Condition:\n",
    "a = [x for x in range(1, 21) if x % 2 == 0]\n",
    "\n",
    "print(a)\n"
   ]
  },
  {
   "cell_type": "code",
   "execution_count": 28,
   "id": "9a7a47a0-c42c-42f4-92a2-ae9badadb65f",
   "metadata": {},
   "outputs": [
    {
     "name": "stdout",
     "output_type": "stream",
     "text": [
      "Directory 'test_folder' created.\n",
      "Directory 'test_folder' deleted.\n"
     ]
    }
   ],
   "source": [
    "# 8 Using os and time Modules:\n",
    "import os\n",
    "import time\n",
    "\n",
    "def file_operations():\n",
    "    os.makedirs(\"test_folder\")\n",
    "    print(\"Directory 'test_folder' created.\")\n",
    "    time.sleep(3)\n",
    "    os.rmdir(\"test_folder\")\n",
    "    print(\"Directory 'test_folder' deleted.\")\n",
    "\n",
    "# Example usage\n",
    "file_operations()\n"
   ]
  },
  {
   "cell_type": "code",
   "execution_count": 29,
   "id": "8fd6d7ac-968e-43c4-b35d-1facf66388e4",
   "metadata": {},
   "outputs": [
    {
     "name": "stdout",
     "output_type": "stream",
     "text": [
      "Paused execution...\n"
     ]
    }
   ],
   "source": [
    "# 9 Importing Specific Functions:\n",
    "from time import sleep as pause\n",
    "pause(2)\n",
    "print(\"Paused execution...\")\n"
   ]
  },
  {
   "cell_type": "code",
   "execution_count": 31,
   "id": "63eaef8c-55f2-4027-92db-d1701c3d01d2",
   "metadata": {},
   "outputs": [
    {
     "name": "stdout",
     "output_type": "stream",
     "text": [
      "[1, 2, 3, 4, 5, 6]\n"
     ]
    }
   ],
   "source": [
    "# 10 **Recursive Function with *args and kwargs (Flattening a List):\n",
    "def flatten_list(nested_list, *args, **kwargs):\n",
    "    flat_list = []\n",
    "    for item in nested_list:\n",
    "        if isinstance(item, list):\n",
    "            \n",
    "            flat_list.extend(flatten_list(item, *args, **kwargs))\n",
    "        else:\n",
    "            \n",
    "            flat_list.append(item)\n",
    "    return flat_list\n",
    "\n",
    "# Example usage\n",
    "nested = [1, [2,3],[[4,5],6]]\n",
    "flat = flatten_list(nested)\n",
    "print(flat)\n"
   ]
  },
  {
   "cell_type": "code",
   "execution_count": null,
   "id": "4a0298ea-d00e-4ec0-b1e8-e43d50bdff7f",
   "metadata": {},
   "outputs": [],
   "source": []
  }
 ],
 "metadata": {
  "kernelspec": {
   "display_name": "Python 3 (ipykernel)",
   "language": "python",
   "name": "python3"
  },
  "language_info": {
   "codemirror_mode": {
    "name": "ipython",
    "version": 3
   },
   "file_extension": ".py",
   "mimetype": "text/x-python",
   "name": "python",
   "nbconvert_exporter": "python",
   "pygments_lexer": "ipython3",
   "version": "3.12.0"
  }
 },
 "nbformat": 4,
 "nbformat_minor": 5
}
